{
 "cells": [
  {
   "cell_type": "markdown",
   "metadata": {},
   "source": [
    "\n",
    "# Project: Investigate a Dataset - [No-show appointments]\n",
    "\n",
    "## Table of Contents\n",
    "<ul>\n",
    "<li><a href=\"#intro\">Introduction</a></li>\n",
    "<li><a href=\"#wrangling\">Data Wrangling</a></li>\n",
    "<li><a href=\"#eda\">Exploratory Data Analysis</a></li>\n",
    "<li><a href=\"#conclusions\">Conclusions</a></li>\n",
    "<li><a href=\"#References\">References</a></li>\n",
    "</ul>"
   ]
  },
  {
   "cell_type": "markdown",
   "metadata": {},
   "source": [
    "<a id='intro'></a>\n",
    "## Introduction\n",
    "\n",
    "### Dataset Description \n",
    "\n",
    "> This dataset collects information from 100k medical appointments in Brazil and is focused on the question of whether or not patients show up for their appointment. Below are the list of some of the columns in the dataset  with description of data contained in the columns:\n",
    "\n",
    ">1.**ScheduledDay:** tells us on what day the patient set up their appointment.\n",
    "\n",
    ">2.**AppointmentDay:** The day of the actuall appointment, when they have to visit the doctor.\n",
    "\n",
    ">3.**Neighborhood:** indicates the location of the hospital.\n",
    "\n",
    ">4.**Scholarship:** indicates whether or not the patient is enrolled in             Brasilia welfare program Bolsa Família.\n",
    "\n",
    ">5.**AppointmentID:** identification of each appointment.\n",
    "\n",
    ">6.**No-show:** indicates if the patient shows up for the appointment, *'No'*      for if they showed and *'Yes'* if they don't.\n",
    "\n",
    ">7.**SMS_received:** indicates numbers of messages sent to the patient.\n"
   ]
  },
  {
   "cell_type": "markdown",
   "metadata": {},
   "source": [
    "click **[here](https://www.kaggle.com/datasets/joniarroba/noshowappointments)** for more information about the dataset.\n"
   ]
  },
  {
   "cell_type": "markdown",
   "metadata": {},
   "source": [
    "### Question(s) for Analysis\n",
    ">What factors are important for us to know in order to predict if a patient will show up for their scheduled appointment?. \n",
    "\n",
    "N.B The project seek  to investiagate from the dataset which factors are helpful in predicting if a patient will show up for their scheduled appointment. It must be noted the project doesn't intend to explore all factors but some of the factors that are neccessary to make important decision.\n"
   ]
  },
  {
   "cell_type": "markdown",
   "metadata": {},
   "source": [
    " **Loading necessary Libraries**"
   ]
  },
  {
   "cell_type": "code",
   "execution_count": 41,
   "metadata": {},
   "outputs": [],
   "source": [
    "import pandas as pd\n",
    "import numpy as np\n",
    "import matplotlib.pyplot as plt\n",
    "import seaborn as sns\n",
    "%matplotlib inline"
   ]
  },
  {
   "cell_type": "markdown",
   "metadata": {},
   "source": [
    "<a id='wrangling'></a>\n",
    "## Data Wrangling\n",
    "\n",
    "> In this section the data will be loaded and some operations will be performed to inspect data types, to look for missing values or possibly duplicated  data. "
   ]
  },
  {
   "cell_type": "markdown",
   "metadata": {},
   "source": [
    "**loading the data and checking data properties**"
   ]
  },
  {
   "cell_type": "code",
   "execution_count": 42,
   "metadata": {},
   "outputs": [],
   "source": [
    "df = pd.read_csv('noshowappointments-kagglev2-may-2016-Copy1.csv')"
   ]
  },
  {
   "cell_type": "markdown",
   "metadata": {},
   "source": [
    "**Checking Data Properties**"
   ]
  },
  {
   "cell_type": "code",
   "execution_count": 43,
   "metadata": {
    "scrolled": true
   },
   "outputs": [
    {
     "data": {
      "text/html": [
       "<div>\n",
       "<style scoped>\n",
       "    .dataframe tbody tr th:only-of-type {\n",
       "        vertical-align: middle;\n",
       "    }\n",
       "\n",
       "    .dataframe tbody tr th {\n",
       "        vertical-align: top;\n",
       "    }\n",
       "\n",
       "    .dataframe thead th {\n",
       "        text-align: right;\n",
       "    }\n",
       "</style>\n",
       "<table border=\"1\" class=\"dataframe\">\n",
       "  <thead>\n",
       "    <tr style=\"text-align: right;\">\n",
       "      <th></th>\n",
       "      <th>PatientId</th>\n",
       "      <th>AppointmentID</th>\n",
       "      <th>Gender</th>\n",
       "      <th>ScheduledDay</th>\n",
       "      <th>AppointmentDay</th>\n",
       "      <th>Age</th>\n",
       "      <th>Neighbourhood</th>\n",
       "      <th>Scholarship</th>\n",
       "      <th>Hipertension</th>\n",
       "      <th>Diabetes</th>\n",
       "      <th>Alcoholism</th>\n",
       "      <th>Handcap</th>\n",
       "      <th>SMS_received</th>\n",
       "      <th>No-show</th>\n",
       "    </tr>\n",
       "  </thead>\n",
       "  <tbody>\n",
       "    <tr>\n",
       "      <th>0</th>\n",
       "      <td>2.987250e+13</td>\n",
       "      <td>5642903</td>\n",
       "      <td>F</td>\n",
       "      <td>2016-04-29T18:38:08Z</td>\n",
       "      <td>2016-04-29T00:00:00Z</td>\n",
       "      <td>62</td>\n",
       "      <td>JARDIM DA PENHA</td>\n",
       "      <td>0</td>\n",
       "      <td>1</td>\n",
       "      <td>0</td>\n",
       "      <td>0</td>\n",
       "      <td>0</td>\n",
       "      <td>0</td>\n",
       "      <td>No</td>\n",
       "    </tr>\n",
       "    <tr>\n",
       "      <th>1</th>\n",
       "      <td>5.589978e+14</td>\n",
       "      <td>5642503</td>\n",
       "      <td>M</td>\n",
       "      <td>2016-04-29T16:08:27Z</td>\n",
       "      <td>2016-04-29T00:00:00Z</td>\n",
       "      <td>56</td>\n",
       "      <td>JARDIM DA PENHA</td>\n",
       "      <td>0</td>\n",
       "      <td>0</td>\n",
       "      <td>0</td>\n",
       "      <td>0</td>\n",
       "      <td>0</td>\n",
       "      <td>0</td>\n",
       "      <td>No</td>\n",
       "    </tr>\n",
       "    <tr>\n",
       "      <th>2</th>\n",
       "      <td>4.262962e+12</td>\n",
       "      <td>5642549</td>\n",
       "      <td>F</td>\n",
       "      <td>2016-04-29T16:19:04Z</td>\n",
       "      <td>2016-04-29T00:00:00Z</td>\n",
       "      <td>62</td>\n",
       "      <td>MATA DA PRAIA</td>\n",
       "      <td>0</td>\n",
       "      <td>0</td>\n",
       "      <td>0</td>\n",
       "      <td>0</td>\n",
       "      <td>0</td>\n",
       "      <td>0</td>\n",
       "      <td>No</td>\n",
       "    </tr>\n",
       "  </tbody>\n",
       "</table>\n",
       "</div>"
      ],
      "text/plain": [
       "      PatientId  AppointmentID Gender          ScheduledDay  \\\n",
       "0  2.987250e+13        5642903      F  2016-04-29T18:38:08Z   \n",
       "1  5.589978e+14        5642503      M  2016-04-29T16:08:27Z   \n",
       "2  4.262962e+12        5642549      F  2016-04-29T16:19:04Z   \n",
       "\n",
       "         AppointmentDay  Age    Neighbourhood  Scholarship  Hipertension  \\\n",
       "0  2016-04-29T00:00:00Z   62  JARDIM DA PENHA            0             1   \n",
       "1  2016-04-29T00:00:00Z   56  JARDIM DA PENHA            0             0   \n",
       "2  2016-04-29T00:00:00Z   62    MATA DA PRAIA            0             0   \n",
       "\n",
       "   Diabetes  Alcoholism  Handcap  SMS_received No-show  \n",
       "0         0           0        0             0      No  \n",
       "1         0           0        0             0      No  \n",
       "2         0           0        0             0      No  "
      ]
     },
     "execution_count": 43,
     "metadata": {},
     "output_type": "execute_result"
    }
   ],
   "source": [
    "df.head(3)"
   ]
  },
  {
   "cell_type": "code",
   "execution_count": 44,
   "metadata": {},
   "outputs": [
    {
     "data": {
      "text/plain": [
       "PatientId         0\n",
       "AppointmentID     0\n",
       "Gender            0\n",
       "ScheduledDay      0\n",
       "AppointmentDay    0\n",
       "Age               0\n",
       "Neighbourhood     0\n",
       "Scholarship       0\n",
       "Hipertension      0\n",
       "Diabetes          0\n",
       "Alcoholism        0\n",
       "Handcap           0\n",
       "SMS_received      0\n",
       "No-show           0\n",
       "dtype: int64"
      ]
     },
     "execution_count": 44,
     "metadata": {},
     "output_type": "execute_result"
    }
   ],
   "source": [
    "#checking for empty rows\n",
    "df.isnull().sum()"
   ]
  },
  {
   "cell_type": "code",
   "execution_count": 45,
   "metadata": {},
   "outputs": [
    {
     "data": {
      "text/plain": [
       "0"
      ]
     },
     "execution_count": 45,
     "metadata": {},
     "output_type": "execute_result"
    }
   ],
   "source": [
    "#checking for duplicated rows\n",
    "df.duplicated().sum()"
   ]
  },
  {
   "cell_type": "markdown",
   "metadata": {},
   "source": [
    "check the Introduction for a brief description of the dataset."
   ]
  },
  {
   "cell_type": "markdown",
   "metadata": {},
   "source": [
    "\n",
    "### Data Cleaning\n"
   ]
  },
  {
   "cell_type": "markdown",
   "metadata": {
    "collapsed": true
   },
   "source": [
    "**The following inconsistencies in the data will be corrected:**\n",
    "\n",
    "1.PatientId will be dropped becauase it won't be useful for the analysis.\n",
    "\n",
    "2.some columns with incorrect inputs will be corrected.\n",
    "\n",
    "3.Data Type of ScheduledDay and AppointmentDay will be changed to DateTime.\n",
    "\n",
    "4.TimeStamp will be ignored in scheduleDay and AppointmentDay becuase it's not neccesary for the analysis.\n"
   ]
  },
  {
   "cell_type": "code",
   "execution_count": 46,
   "metadata": {},
   "outputs": [],
   "source": [
    "#dropping PatientID\n",
    "\n",
    "df.drop(columns = 'PatientId', inplace = True)"
   ]
  },
  {
   "cell_type": "code",
   "execution_count": 47,
   "metadata": {},
   "outputs": [],
   "source": [
    "#renaming incorrect column names\n",
    "df = df.rename(columns={'Hipertension' : 'Hypertension','Handcap': 'Handicap', 'SMS_received': 'SMSReceived', 'No-show': 'NoShow' })"
   ]
  },
  {
   "cell_type": "code",
   "execution_count": 48,
   "metadata": {},
   "outputs": [],
   "source": [
    "split_columns = ['ScheduledDay', 'AppointmentDay']\n",
    "\n",
    "for c in split_columns:\n",
    "    df[c] = df[c].apply(lambda x: x.split(\"T\")[0])\n",
    "\n"
   ]
  },
  {
   "cell_type": "code",
   "execution_count": 49,
   "metadata": {},
   "outputs": [],
   "source": [
    "# Convert ScheduledDay and AppointmentDay from 'object' type to 'datetime64[ns]'\n",
    "df['ScheduledDay'] = pd.to_datetime(df['ScheduledDay']).astype('datetime64[ns]')\n",
    "df['AppointmentDay'] = pd.to_datetime(df['AppointmentDay']).astype('datetime64[ns]')"
   ]
  },
  {
   "cell_type": "markdown",
   "metadata": {},
   "source": [
    "<a id='eda'></a>\n",
    "## Exploratory Data Analysis\n",
    "*Now we will start exploring some features of the data to see what factors are helpful in predicting number of show up.*\n",
    "\n",
    "\n",
    "\n",
    "### 1. Is Gender useful in predicting the number of  patients that show up?"
   ]
  },
  {
   "cell_type": "markdown",
   "metadata": {
    "collapsed": true
   },
   "source": [
    "```It's neccesary to separate the dataset according to gender to analysis the impart of gender on number of show up.```"
   ]
  },
  {
   "cell_type": "code",
   "execution_count": 50,
   "metadata": {},
   "outputs": [],
   "source": [
    "#total_number of Females\n",
    "Total_females= df[df['Gender'] == 'F']\n",
    "Total_females = Total_females.loc[:,['Gender','NoShow']]"
   ]
  },
  {
   "cell_type": "code",
   "execution_count": 51,
   "metadata": {},
   "outputs": [
    {
     "data": {
      "text/plain": [
       "F    71840\n",
       "Name: Gender, dtype: int64"
      ]
     },
     "execution_count": 51,
     "metadata": {},
     "output_type": "execute_result"
    }
   ],
   "source": [
    "#counting the numbers of Females in the data set\n",
    "\n",
    "T_Females = Total_females['Gender'].value_counts()\n",
    "T_Females"
   ]
  },
  {
   "cell_type": "code",
   "execution_count": 52,
   "metadata": {},
   "outputs": [
    {
     "data": {
      "text/plain": [
       "(57246, 14594)"
      ]
     },
     "execution_count": 52,
     "metadata": {},
     "output_type": "execute_result"
    }
   ],
   "source": [
    "#Counting the numbers of female patient that show up and those that didn't show up\n",
    "ShowedUP = Total_females[Total_females['NoShow'] == 'No']['NoShow'].count()\n",
    "No_ShowUP = Total_females[Total_females['NoShow'] == 'Yes']['NoShow'].count()\n",
    "ShowedUP, No_ShowUP"
   ]
  },
  {
   "cell_type": "code",
   "execution_count": 53,
   "metadata": {},
   "outputs": [
    {
     "name": "stdout",
     "output_type": "stream",
     "text": [
      "Proportion of Females that show up is 80.0%\n",
      "Proportion of Females that didn't show up is 20.0%\n"
     ]
    }
   ],
   "source": [
    "#calculating the proportion of  total Female Patients that show up and those that didn't show up\n",
    "Prop_ShowedUP = round((ShowedUP/T_Females) * 100)\n",
    "Prop_No_ShowUP = round((No_ShowUP/ T_Females) * 100)\n",
    "print(\"Proportion of Females that show up is {}%\". format(Prop_ShowedUP.iloc[0]))\n",
    "print(\"Proportion of Females that didn't show up is {}%\". format(Prop_No_ShowUP.iloc[0]))\n"
   ]
  },
  {
   "cell_type": "code",
   "execution_count": 54,
   "metadata": {},
   "outputs": [],
   "source": [
    "#total_number of male Patients\n",
    "Total_males= df[df['Gender'] == 'M']\n",
    "Total_males = Total_males.loc[:,['Gender','NoShow']]"
   ]
  },
  {
   "cell_type": "code",
   "execution_count": 55,
   "metadata": {},
   "outputs": [
    {
     "data": {
      "text/plain": [
       "M    38687\n",
       "Name: Gender, dtype: int64"
      ]
     },
     "execution_count": 55,
     "metadata": {},
     "output_type": "execute_result"
    }
   ],
   "source": [
    "#counting the numbers of males in the data set\n",
    "T_males = Total_males['Gender'].value_counts()\n",
    "T_males"
   ]
  },
  {
   "cell_type": "code",
   "execution_count": 56,
   "metadata": {},
   "outputs": [
    {
     "data": {
      "text/plain": [
       "(30962, 7725)"
      ]
     },
     "execution_count": 56,
     "metadata": {},
     "output_type": "execute_result"
    }
   ],
   "source": [
    "#Counting the numbers of male patients that show up and those that didn't show up\n",
    "ShowedUP = Total_males[Total_males['NoShow'] == 'No']['NoShow'].count()\n",
    "No_ShowUP = Total_males[Total_males['NoShow'] == 'Yes']['NoShow'].count()\n",
    "\n",
    "\n",
    "ShowedUP,No_ShowUP"
   ]
  },
  {
   "cell_type": "code",
   "execution_count": 57,
   "metadata": {},
   "outputs": [
    {
     "name": "stdout",
     "output_type": "stream",
     "text": [
      " 80.0% of total number males that registered showed up.\n",
      " While 20.0% out of the total number of males that registered didn't show up.\n"
     ]
    }
   ],
   "source": [
    "#calculating the proportion of  total male Patients that show up and those that didn't show up\n",
    "Prop_ShowedUP = round((ShowedUP/T_males) * 100)\n",
    "Prop_No_ShowUP = round((No_ShowUP/ T_males) * 100)\n",
    "\n",
    "\n",
    "print(\" {}% of total number males that registered showed up.\". format(Prop_ShowedUP.iloc[0]))\n",
    "print(\" While {}% out of the total number of males that registered didn't show up.\". format(Prop_No_ShowUP.iloc[0]))"
   ]
  },
  {
   "cell_type": "code",
   "execution_count": 58,
   "metadata": {},
   "outputs": [
    {
     "data": {
      "image/png": "[encoded data removed]",
      "text/plain": [
       "<Figure size 432x288 with 1 Axes>"
      ]
     },
     "metadata": {},
     "output_type": "display_data"
    },
    {
     "data": {
      "image/png": "[encoded data removed]",
      "text/plain": [
       "<Figure size 432x288 with 1 Axes>"
      ]
     },
     "metadata": {},
     "output_type": "display_data"
    }
   ],
   "source": [
    "#drawing a pie chart to demonstrate the result\n",
    "\n",
    "data= Total_females.NoShow.value_counts()\n",
    "my_labels = ['Showed UP', \"Didn't Show Up\"]\n",
    "\n",
    "plt.pie(data,labels = my_labels, autopct='%1.1f%%')\n",
    "plt.title('Total Number of Females')\n",
    "plt.axis('equal')\n",
    "plt.show()\n",
    "\n",
    "\n",
    "\n",
    "data = Total_males.NoShow.value_counts()\n",
    "my_labels = ['Showed UP', \"Didn't Show Up\"]\n",
    "my_colors = ['lightblue','lightsteelblue','silver']\n",
    "my_explode = (0, 0.1, 0)\n",
    "plt.pie(data,labels = my_labels, autopct='%1.1f%%', colors=my_colors)\n",
    "plt.title('Total Number of Males')\n",
    "plt.axis('equal')\n",
    "plt.show()\n"
   ]
  },
  {
   "cell_type": "code",
   "execution_count": null,
   "metadata": {},
   "outputs": [],
   "source": []
  },
  {
   "cell_type": "markdown",
   "metadata": {},
   "source": [
    "**From the pie-chart above the percentage of males and females(80%, 79% respectively) that show up and those that didn't show up (20.0% and 20.3%) are almost the same. Hence Gender is not a useful characteristics in predicting number of patients that will show up.**"
   ]
  },
  {
   "cell_type": "markdown",
   "metadata": {},
   "source": [
    "### 2. Is the age of the patient  useful in predicting the number of  patients that show up?"
   ]
  },
  {
   "cell_type": "code",
   "execution_count": 59,
   "metadata": {},
   "outputs": [
    {
     "data": {
      "text/plain": [
       "array([ 62,  56,   8,  76,  23,  39,  21,  19,  30,  29,  22,  28,  54,\n",
       "        15,  50,  40,  46,   4,  13,  65,  45,  51,  32,  12,  61,  38,\n",
       "        79,  18,  63,  64,  85,  59,  55,  71,  49,  78,  31,  58,  27,\n",
       "         6,   2,  11,   7,   0,   3,   1,  69,  68,  60,  67,  36,  10,\n",
       "        35,  20,  26,  34,  33,  16,  42,   5,  47,  17,  41,  44,  37,\n",
       "        24,  66,  77,  81,  70,  53,  75,  73,  52,  74,  43,  89,  57,\n",
       "        14,   9,  48,  83,  72,  25,  80,  87,  88,  84,  82,  90,  94,\n",
       "        86,  91,  98,  92,  96,  93,  95,  97, 102, 115, 100,  99,  -1],\n",
       "      dtype=int64)"
      ]
     },
     "execution_count": 59,
     "metadata": {},
     "output_type": "execute_result"
    }
   ],
   "source": [
    "#getting the number of ages in the data set\n",
    "df.Age.unique()"
   ]
  },
  {
   "cell_type": "markdown",
   "metadata": {},
   "source": [
    "```It can be noticed that some age is 0, this will be dropped with the assumption that it's a mistake in data entry.```"
   ]
  },
  {
   "cell_type": "code",
   "execution_count": 60,
   "metadata": {},
   "outputs": [
    {
     "data": {
      "text/plain": [
       "array([ 62,  56,   8,  76,  23,  39,  21,  19,  30,  29,  22,  28,  54,\n",
       "        15,  50,  40,  46,   4,  13,  65,  45,  51,  32,  12,  61,  38,\n",
       "        79,  18,  63,  64,  85,  59,  55,  71,  49,  78,  31,  58,  27,\n",
       "         6,   2,  11,   7,   3,   1,  69,  68,  60,  67,  36,  10,  35,\n",
       "        20,  26,  34,  33,  16,  42,   5,  47,  17,  41,  44,  37,  24,\n",
       "        66,  77,  81,  70,  53,  75,  73,  52,  74,  43,  89,  57,  14,\n",
       "         9,  48,  83,  72,  25,  80,  87,  88,  84,  82,  90,  94,  86,\n",
       "        91,  98,  92,  96,  93,  95,  97, 102, 115, 100,  99,  -1],\n",
       "      dtype=int64)"
      ]
     },
     "execution_count": 60,
     "metadata": {},
     "output_type": "execute_result"
    }
   ],
   "source": [
    "#dropping patient with age = 0\n",
    "df.drop(df[df['Age'] == 0].index, inplace = True)\n",
    "df.Age.unique()"
   ]
  },
  {
   "cell_type": "code",
   "execution_count": 61,
   "metadata": {},
   "outputs": [
    {
     "data": {
      "text/plain": [
       "38.0"
      ]
     },
     "execution_count": 61,
     "metadata": {},
     "output_type": "execute_result"
    }
   ],
   "source": [
    "#calculating the median age\n",
    "Md_age = df.Age.median()\n",
    "Md_age"
   ]
  },
  {
   "cell_type": "code",
   "execution_count": 62,
   "metadata": {},
   "outputs": [
    {
     "ename": "SyntaxError",
     "evalue": "invalid syntax (3962878191.py, line 9)",
     "output_type": "error",
     "traceback": [
      "\u001b[1;36m  File \u001b[1;32m\"C:\\Users\\other account\\AppData\\Local\\Temp\\ipykernel_7592\\3962878191.py\"\u001b[1;36m, line \u001b[1;32m9\u001b[0m\n\u001b[1;33m    Showed_Up , NO_Show_Up`\u001b[0m\n\u001b[1;37m                          ^\u001b[0m\n\u001b[1;31mSyntaxError\u001b[0m\u001b[1;31m:\u001b[0m invalid syntax\n"
     ]
    }
   ],
   "source": [
    "#getting the number of  equal and above the median age\n",
    "Higher = df[df['Age'] >= Md_age]\n",
    "Higher = Higher.loc[:,['Age','NoShow']]\n",
    "\n",
    "#seperating patients that showed and those that didn't show up\n",
    "Showed_Up = Higher[Higher['NoShow'] == 'No']['NoShow'].count()\n",
    "NO_Show_Up = Higher[Higher['NoShow'] == 'Yes']['NoShow'].count()\n",
    "\n",
    "Showed_Up , NO_Show_Up`"
   ]
  },
  {
   "cell_type": "code",
   "execution_count": null,
   "metadata": {},
   "outputs": [],
   "source": [
    "#getting the number of below the median age\n",
    "lower = df[df['Age'] >  Md_age]\n",
    "lower= lower.loc[:,['Age','NoShow']]\n",
    "\n",
    "#seperating patients that showed and those that didn't show up\n",
    "lower_Showed_Up = lower[lower['NoShow'] == 'No']['NoShow'].count()\n",
    "lower_NO_Show_Up = lower[lower['NoShow'] == 'Yes']['NoShow'].count()\n",
    "lower_Showed_Up, lower_NO_Show_Up"
   ]
  },
  {
   "cell_type": "code",
   "execution_count": null,
   "metadata": {},
   "outputs": [],
   "source": [
    "#plotting chart to demon the number patients that showed and those that didn't show up above and below the median age\n",
    "plt.bar(['Showed UP', \"Didn't Show Up\"], [lower_Showed_Up,lower_NO_Show_Up])\n",
    "plt.title(\"A chart showing the number of people below the median Age\")\n",
    "plt.xlabel(\"Status\")\n",
    "plt.ylabel(\"Number of People\");\n",
    "plt.show();\n",
    "\n",
    "\n",
    "plt.bar(['Showed UP', \"Didn't Show Up\"], [Showed_Up, NO_Show_Up], color = 'green')\n",
    "plt.title(\"A chart showing the number of people above and equivalent to the median Age\")\n",
    "plt.xlabel(\"Status\")\n",
    "plt.ylabel(\"Number of People\");"
   ]
  },
  {
   "cell_type": "markdown",
   "metadata": {},
   "source": [
    "**The bar charts demonstrating the number of patients that didn't show up and those that show up accross both age level is the same. This means, however, that age is not a useful feature to predict the number of patients that will show up and those than won't show up.**"
   ]
  },
  {
   "cell_type": "markdown",
   "metadata": {},
   "source": [
    "### 3. Is the numbers of Patient that received scholarship  useful in predicting the number of  patients that show up?"
   ]
  },
  {
   "cell_type": "code",
   "execution_count": null,
   "metadata": {},
   "outputs": [],
   "source": [
    "df.Scholarship.unique()"
   ]
  },
  {
   "cell_type": "code",
   "execution_count": 64,
   "metadata": {},
   "outputs": [],
   "source": [
    "#creating a Function to create piechart to avoid repeative codes\n",
    "\n",
    "def myPiechart(df, xvar,titles = ['without','with'], colors = ['green', 'yellow']):\n",
    "    \"\"\"creating plot from the data set \"\"\"\n",
    "    \n",
    "    ax = df.groupby(xvar)['NoShow'].value_counts().unstack().T.plot(kind='pie', subplots = True, figsize = (14,6),explode = [0,0.1],autopct='%1.1f%%', colors = colors);\n",
    "   \n",
    "    \"\"\"setting the plot title\"\"\"\n",
    "    \n",
    "    ax[0].set_title('Show/No Show message:' +' '+ titles[0])\n",
    "    ax[1].set_title('Show/No Show message:' +' '+ titles[1])\n",
    "    plt.suptitle('Show/No show percentages by' + ' '+ (xvar).title(),weight = 'bold');\n"
   ]
  },
  {
   "cell_type": "code",
   "execution_count": 65,
   "metadata": {},
   "outputs": [
    {
     "data": {
      "image/png": "[encoded data removed]",
      "text/plain": [
       "<Figure size 1008x432 with 2 Axes>"
      ]
     },
     "metadata": {},
     "output_type": "display_data"
    }
   ],
   "source": [
    "#plotting a pie chart to demonstrate the percetage of patient that Got Scholarship Versus those that didn't\n",
    "myPiechart(df,'Scholarship')"
   ]
  },
  {
   "cell_type": "markdown",
   "metadata": {},
   "source": [
    "**From the pie chart 76% of patient that got scholarship showed up while 80.1% of patients that didn't get scholarship showed. This means that patients that didn't get scholarship stands a higher chance of showing up compared to patients that got scholarship. Hence, the number  of patients that got scholarship is helpful in predicting number of patients that will show up.**"
   ]
  },
  {
   "cell_type": "markdown",
   "metadata": {},
   "source": [
    "### 4. Is the numbers of Patient that received SMS  useful in predicting the number of  patients that show up?"
   ]
  },
  {
   "cell_type": "code",
   "execution_count": 66,
   "metadata": {},
   "outputs": [
    {
     "data": {
      "image/png": "[encoded data removed]",
      "text/plain": [
       "<Figure size 1008x432 with 2 Axes>"
      ]
     },
     "metadata": {},
     "output_type": "display_data"
    }
   ],
   "source": [
    "#plotting a pie chart to demonstrate the percetage of patient that Got Received SMS Versus those that didn't\n",
    "\n",
    "myPiechart(df,'SMSReceived')"
   ]
  },
  {
   "cell_type": "markdown",
   "metadata": {},
   "source": [
    "**From the pie chart 72.3% of patient that received SMS showed up while 80.1% of patients that didn't receive SMS showed up. This means that patients that didn't receive SMS  stands a higher chance of showing up compared to patients that received SMS. Hence,  the number  of patients that received SMS is helpful in predicting number of patients that will show up.**"
   ]
  },
  {
   "cell_type": "markdown",
   "metadata": {},
   "source": [
    "<a id='conclusions'></a>\n",
    "## Conclusions\n",
    "\n",
    "> **This analysis involves cleaning the data to facilitate analysis. Afterwards explorative data analysis  was done to findout how the characteristics  can help predict number of show up.**\n",
    "\n",
    ">**To clean the data some columns were renamed. ParendId has to be drop becuase it won't neccesary for analysis. In addition the cleaning also involved changing  the data type AppointmentDay and ScheduleDay to daytimme.**\n",
    "\n",
    ">  **For explorative data analysis involves analysing how Gender, age, Scholarship and SMS received can help predict number of  show up.** \n",
    "\n",
    ">**From the analysis we can deduce that Gender and Age are not helpful statistics in predicting the number of show up. This is because the number of patients that show up and those that didn't show up have similar percentages both for Gender and ages.**\n",
    "\n",
    "> **However, number of patients that received and didn't receive scholarship are helpful in predicting number of patients that will show up.**\n",
    "\n",
    "\n",
    "## limitations of the project:\n",
    "> **1.  It must be noted that the project doesn't intend to explore all factors but some of the factors that are neccessary to make important decision**\n",
    "\n",
    "> **2. entries with ages equal to zero indicates that there are mistakes in the data entry, this could affect the result of the analysis.**\n"
   ]
  },
  {
   "cell_type": "code",
   "execution_count": 63,
   "metadata": {},
   "outputs": [
    {
     "data": {
      "text/plain": [
       "0"
      ]
     },
     "execution_count": 63,
     "metadata": {},
     "output_type": "execute_result"
    }
   ],
   "source": [
    "from subprocess import call\n",
    "call(['python', '-m', 'nbconvert', 'Investigate_a_Dataset.ipynb'])"
   ]
  },
  {
   "cell_type": "markdown",
   "metadata": {},
   "source": [
    "<a id='References'></a>\n",
    "# References\n",
    "\n",
    "https://www.kaggle.com/joniarroba/noshowappointments\n",
    "\n",
    "https://towardsdatascience.com/understanding-boxplots-5e2df7bcbd51#:~:text=A%20boxplot%20is%20a%20standardized,and%20what%20their%20values%20are."
   ]
  },
  {
   "cell_type": "code",
   "execution_count": null,
   "metadata": {},
   "outputs": [],
   "source": []
  },
  {
   "cell_type": "code",
   "execution_count": null,
   "metadata": {},
   "outputs": [],
   "source": []
  }
 ],
 "metadata": {
  "kernelspec": {
   "display_name": "Python 3 (ipykernel)",
   "language": "python",
   "name": "python3"
  },
  "language_info": {
   "codemirror_mode": {
    "name": "ipython",
    "version": 3
   },
   "file_extension": ".py",
   "mimetype": "text/x-python",
   "name": "python",
   "nbconvert_exporter": "python",
   "pygments_lexer": "ipython3",
   "version": "3.7.13"
  }
 },
 "nbformat": 4,
 "nbformat_minor": 2
}
